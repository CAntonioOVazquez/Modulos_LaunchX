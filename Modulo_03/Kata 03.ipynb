{
 "cells": [
  {
   "cell_type": "markdown",
   "metadata": {},
   "source": [
    "# Módulo 03\n",
    "* * *"
   ]
  },
  {
   "cell_type": "markdown",
   "metadata": {},
   "source": [
    "##### Ejercicio uno\n",
    "\n",
    "Escribir una lógica condicional que imprima una advertencia si un asteroide se acerca a la Tierra demasiado rápido. La velocidad del asteroide varía dependiendo de lo cerca que esté del sol, y cualquier velocidad superior a 25 kilómetros por segundo (km/s) merece una advertencia.\n",
    "\n",
    "Un asteroide se acerca, y viaja a una velocidad de 49 km/s."
   ]
  },
  {
   "cell_type": "code",
   "execution_count": 5,
   "metadata": {},
   "outputs": [
    {
     "name": "stdout",
     "output_type": "stream",
     "text": [
      "Sin problemas por ahora ☺\n"
     ]
    }
   ],
   "source": [
    "asteroide = 49\n",
    "\n",
    "if(asteroide > 25):\n",
    "    print(\"Alerta! Un asteroide se acerca a la Tierra demasiado rápido!\")\n",
    "else:\n",
    "    print(\"Sin problemas por ahora ☺\")\n",
    "    "
   ]
  },
  {
   "cell_type": "markdown",
   "metadata": {},
   "source": [
    "##### Ejercicio 2\n",
    "\n",
    "Si un asteroide entra en la atmósfera de la Tierra a una velocidad mayor o igual a 20 km/s, a veces produce un rayo de luz que se puede ver desde la Tierra. Escribe la lógica condicional que usa declaraciones if, else, y elif para alertar a las personas de todo el mundo que deben buscar un asteroide en el cielo.\n",
    "\n",
    "¡Hay uno que se dirige a la tierra ahora a una velocidad de 19 km/s!"
   ]
  },
  {
   "cell_type": "code",
   "execution_count": 7,
   "metadata": {},
   "outputs": [
    {
     "name": "stdout",
     "output_type": "stream",
     "text": [
      "Oye! Mira hacia el cielo hay un asteroide cayendo, no es peligroso, pero dará un pequeño espectáculo!\n"
     ]
    }
   ],
   "source": [
    "asteroide = 23\n",
    "\n",
    "if(asteroide >= 20):\n",
    "    print(\"Oye! Mira hacia el cielo hay un asteroide cayendo, no es peligroso, pero dará un pequeño espectáculo!\")\n",
    "else:\n",
    "    print(\"Nada por aquí\")\n",
    "    "
   ]
  },
  {
   "cell_type": "markdown",
   "metadata": {},
   "source": [
    "##### Ejercicio 3\n",
    "\n",
    "Los asteroides de menos de 25 metros en su dimensión más grande probablemente se quemarán a medida que entren en la atmósfera de la Tierra.\n",
    "\n",
    "* Si una pieza de un asteroide que es más grande que 25 metros pero más pequeña que 1000 metros golpeara la Tierra, causaría mucho daño.\n",
    "\n",
    "También discutimos en el ejercicio anterior que:\n",
    "\n",
    "* La velocidad del asteroide varía en función de lo cerca que esté del sol, y cualquier velocidad superior a 25 kilómetros por segundo (km/s) merece una advertencia.\n",
    "\n",
    "* Si un asteroide entra en la atmósfera de la Tierra a una velocidad mayor o igual a 20 km/s, a veces produce un rayo de luz que se puede ver desde la Tierra.\n",
    "\n",
    "Usando toda esta información, escribe un programa que emita la advertencia o información correcta a la gente de la Tierra, según la velocidad y el tamaño de un asteroide."
   ]
  },
  {
   "cell_type": "code",
   "execution_count": 26,
   "metadata": {},
   "outputs": [
    {
     "name": "stdout",
     "output_type": "stream",
     "text": [
      "Habrá un gran destello en el cielo!\n"
     ]
    }
   ],
   "source": [
    "iAsteroideVelocidad = 20\n",
    "iAsteroideTamaño = 25\n",
    "\n",
    "if(iAsteroideVelocidad>=25 & iAsteroideTamaño>=25):\n",
    "    print(\"Alerta, un asteroide con velocidad y dimensiones peligrosas se acerca a la Tierra\")\n",
    "elif(iAsteroideTamaño<25):\n",
    "    print(\"Nada que reportar\")\n",
    "elif(iAsteroideVelocidad>=20):\n",
    "    print(\"Habrá un gran destello en el cielo!\")\n",
    "else:\n",
    "    print(\"Nada que reportar\")"
   ]
  }
 ],
 "metadata": {
  "interpreter": {
   "hash": "a0861b759fd846bcff7881b220fc3b4038d22d44a49a71bfb9ec216c42725d5a"
  },
  "kernelspec": {
   "display_name": "Python 3.10.2 64-bit",
   "language": "python",
   "name": "python3"
  },
  "language_info": {
   "codemirror_mode": {
    "name": "ipython",
    "version": 3
   },
   "file_extension": ".py",
   "mimetype": "text/x-python",
   "name": "python",
   "nbconvert_exporter": "python",
   "pygments_lexer": "ipython3",
   "version": "3.10.2"
  },
  "orig_nbformat": 4
 },
 "nbformat": 4,
 "nbformat_minor": 2
}
