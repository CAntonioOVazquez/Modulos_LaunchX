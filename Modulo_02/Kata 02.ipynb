{
 "cells": [
  {
   "cell_type": "markdown",
   "metadata": {},
   "source": [
    "# Módulo 02\n",
    "***"
   ]
  },
  {
   "cell_type": "markdown",
   "metadata": {},
   "source": [
    "Presento una captura de pantalla con las actividades del módulo dos, en el cual se llevan a cabo ciertas acciones básicas del entorno virtual."
   ]
  },
  {
   "cell_type": "markdown",
   "metadata": {},
   "source": [
    "![Captura del módulo 2](https://raw.githubusercontent.com/CAntonioOVazquez/Modulos_LaunchX/main/Modulo_02/Módulo%2002.png)"
   ]
  }
 ],
 "metadata": {
  "interpreter": {
   "hash": "a0861b759fd846bcff7881b220fc3b4038d22d44a49a71bfb9ec216c42725d5a"
  },
  "kernelspec": {
   "display_name": "Python 3.10.2 64-bit",
   "language": "python",
   "name": "python3"
  },
  "language_info": {
   "name": "python",
   "version": "3.10.2"
  },
  "orig_nbformat": 4
 },
 "nbformat": 4,
 "nbformat_minor": 2
}
