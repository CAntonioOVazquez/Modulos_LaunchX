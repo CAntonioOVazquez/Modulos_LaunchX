{
 "cells": [
  {
   "cell_type": "markdown",
   "metadata": {},
   "source": [
    "# Módulo 04\n",
    "* * *"
   ]
  },
  {
   "cell_type": "markdown",
   "metadata": {},
   "source": [
    "##### Ejercicio 1\n",
    "\n",
    "En este ejercicio, se usarán métodos de cadena para modificar el texto con hechos sobre la Luna y luego se extraerán información para crear un breve resumen.\n",
    "\n",
    "El texto es el siguiente:"
   ]
  },
  {
   "cell_type": "code",
   "execution_count": 18,
   "metadata": {},
   "outputs": [
    {
     "name": "stdout",
     "output_type": "stream",
     "text": [
      "Interesting facts about the Moon. The Moon is Earth's only satellite. There are several interesting facts about the Moon and how it affects life here on Earth. \n",
      "On average, the Moon moves 4cm away from the Earth every year. This yearly drift is not significant enough to cause immediate effects on Earth. The highest daylight temperature of the Moon is 127 C.\n"
     ]
    }
   ],
   "source": [
    "sTexto = \"\"\"Interesting facts about the Moon. The Moon is Earth's only satellite. There are several interesting facts about the Moon and how it affects life here on Earth. \n",
    "On average, the Moon moves 4cm away from the Earth every year. This yearly drift is not significant enough to cause immediate effects on Earth. The highest daylight temperature of the Moon is 127 C.\"\"\"\n",
    "\n",
    "print(sTexto)"
   ]
  },
  {
   "cell_type": "markdown",
   "metadata": {},
   "source": [
    "Primero, dividir el texto en cada oración para trabajar con su contenido:"
   ]
  },
  {
   "cell_type": "code",
   "execution_count": 19,
   "metadata": {},
   "outputs": [
    {
     "data": {
      "text/plain": [
       "['Interesting facts about the Moon',\n",
       " \"The Moon is Earth's only satellite\",\n",
       " 'There are several interesting facts about the Moon and how it affects life here on Earth',\n",
       " 'On average, the Moon moves 4cm away from the Earth every year',\n",
       " 'This yearly drift is not significant enough to cause immediate effects on Earth',\n",
       " 'The highest daylight temperature of the Moon is 127 C']"
      ]
     },
     "execution_count": 19,
     "metadata": {},
     "output_type": "execute_result"
    }
   ],
   "source": [
    "sTexto2 = sTexto.replace('\\n', '')\n",
    "\n",
    "lTexto_en_oraciones = sTexto2.split('. ')\n",
    "count = len(lTexto_en_oraciones)\n",
    "\n",
    "lTexto_en_oraciones[count-1] = lTexto_en_oraciones[count-1].replace('.','')\n",
    "\n",
    "lTexto_en_oraciones"
   ]
  },
  {
   "cell_type": "markdown",
   "metadata": {},
   "source": [
    "Ahora, definir algunas palabras clave para búsqueda que ayudarán a determinar si una oración contiene un hecho."
   ]
  },
  {
   "cell_type": "code",
   "execution_count": 20,
   "metadata": {},
   "outputs": [
    {
     "name": "stdout",
     "output_type": "stream",
     "text": [
      "['average', 'temperature', 'distance']\n"
     ]
    }
   ],
   "source": [
    "# Define las palabras pista: average, temperature y distance suenan bien\n",
    "\n",
    "lKeywords = ['average', 'temperature', 'distance']\n",
    "print(lKeywords)"
   ]
  },
  {
   "cell_type": "markdown",
   "metadata": {},
   "source": [
    "Crear un bucle para imprimir solo datos sobre la Luna que estén relacionados con las palabras clave definidas anteriormente:"
   ]
  },
  {
   "cell_type": "code",
   "execution_count": 21,
   "metadata": {},
   "outputs": [
    {
     "name": "stdout",
     "output_type": "stream",
     "text": [
      "['On average, the Moon moves 4cm away from the Earth every year', 'The highest daylight temperature of the Moon is 127 C']\n"
     ]
    }
   ],
   "source": [
    "lKeyData = []\n",
    "for oracion in lTexto_en_oraciones: # obtengo una oracion en cada iteración\n",
    "    for keyword in lKeywords:       # obtengo una palabra clave para verificarla con la oración obtenida, y esto itera 3 veces por ser el tamaño de la lista keywords\n",
    "        if keyword in oracion:      # comprobando si la palabra clave está en la oracion actual\n",
    "            lKeyData.append(oracion)# se añade a la lista final si cumple la condición\n",
    "            break\n",
    "\n",
    "print(lKeyData)                     # se imprimen las oraciones que cumplen con la condición"
   ]
  },
  {
   "cell_type": "markdown",
   "metadata": {},
   "source": [
    "Finalmente, actualizar el bucle(ciclo) para cambiar C a Celsius:"
   ]
  },
  {
   "cell_type": "code",
   "execution_count": 22,
   "metadata": {},
   "outputs": [
    {
     "name": "stdout",
     "output_type": "stream",
     "text": [
      "['On average, the Moon moves 4cm away from the Earth every year', 'The highest daylight temperature of the Moon is 127 Celsius']\n"
     ]
    }
   ],
   "source": [
    "lKeyData2 = []\n",
    "for oracion in lTexto_en_oraciones: # obtengo una oracion en cada iteración\n",
    "    for keyword in lKeywords:       # obtengo una palabra clave para verificarla con la oración obtenida, y esto itera 3 veces por ser el tamaño de la lista keywords\n",
    "        if keyword in oracion:      # comprobando si la palabra clave está en la oracion actual\n",
    "            lKeyData2.append(oracion.replace('C', 'Celsius'))# se añade a la lista final si cumple la condición\n",
    "            break\n",
    "\n",
    "print(lKeyData2)                    # se imprimen las oraciones que cumplen con la condición"
   ]
  },
  {
   "cell_type": "markdown",
   "metadata": {},
   "source": [
    "##### Ejercicio 2\n",
    "\n",
    "En este ejercicio, se utilizan variables que contienen datos clave sobre la gravedad en varias lunas y luego se utilizan para dar formato e imprimir la información.\n",
    "\n",
    "El formato tiene que acomodar información sobre otras lunas, por lo que debe ser genérico.\n",
    "\n",
    "En lugar de reemplazar las variables en una cadena larga como parte de un párrafo, utiliza la información para presentarla en un formato tabular. El resultado debería verse así:"
   ]
  },
  {
   "cell_type": "markdown",
   "metadata": {},
   "source": [
    "    Gravity Facts about Ganymede\n",
    "    -------------------------------------------------------------------------------\n",
    "    Planet Name: Mars\n",
    "    Gravity on Ganymede: 1.4300000000000002 m/s2"
   ]
  },
  {
   "cell_type": "code",
   "execution_count": 36,
   "metadata": {},
   "outputs": [],
   "source": [
    "# Datos con los que vas a trabajar\n",
    "name = \"Luna\"\n",
    "gravity = 0.00162 # en km\n",
    "planet = \"Tierra\""
   ]
  },
  {
   "cell_type": "markdown",
   "metadata": {},
   "source": [
    "Primero, crear un título para el texto. Debido a que este texto trata sobre la gravedad en la Tierra y la Luna, se usará para crear un título significativo. Utilizar las variables en lugar de escribir."
   ]
  },
  {
   "cell_type": "code",
   "execution_count": 40,
   "metadata": {},
   "outputs": [],
   "source": [
    "sTitulo = f'Acerca de la gravedad en {name}'"
   ]
  },
  {
   "cell_type": "markdown",
   "metadata": {},
   "source": [
    "Crear una plantilla de cadena multilínea para contener el resto de la información. En lugar de usar kilómetros, convertir la distancia a metros multiplicando por 1,000."
   ]
  },
  {
   "cell_type": "code",
   "execution_count": 38,
   "metadata": {},
   "outputs": [
    {
     "name": "stdout",
     "output_type": "stream",
     "text": [
      "--------------------------------------------------------------------------------\n",
      "Nombre del planeta:\t Tierra\n",
      "Gravedad en Luna:\t 1.6199999999999999 m/s²\n",
      "\n"
     ]
    }
   ],
   "source": [
    "sPlantilla = f\"\"\"{'-'*80}\n",
    "Nombre del planeta:\\t {planet}\n",
    "Gravedad en {name}:\\t {gravity*1000} m/s²\n",
    "\"\"\"\n",
    "\n",
    "print(sPlantilla)"
   ]
  },
  {
   "cell_type": "markdown",
   "metadata": {},
   "source": [
    "Finalmente, usar ambas variables para unir el título y los hechos."
   ]
  },
  {
   "cell_type": "code",
   "execution_count": 41,
   "metadata": {},
   "outputs": [
    {
     "name": "stdout",
     "output_type": "stream",
     "text": [
      "Acerca De La Gravedad En Luna\n",
      "--------------------------------------------------------------------------------\n",
      "Nombre del planeta:\t Tierra\n",
      "Gravedad en Luna:\t 1.6199999999999999 m/s²\n",
      "\n"
     ]
    }
   ],
   "source": [
    "sTabla = f'{sTitulo.title()}\\n{sPlantilla}'\n",
    "\n",
    "print(sTabla)"
   ]
  },
  {
   "cell_type": "markdown",
   "metadata": {},
   "source": [
    "Ahora se usará información de una luna diferente para ver si la plantilla todavía funciona.\n",
    "\n",
    "Datos muestra:\n",
    "\n",
    "    planeta = 'Marte '\n",
    "    gravedad  = 0.00143\n",
    "    nombre = 'Ganímedes'"
   ]
  },
  {
   "cell_type": "code",
   "execution_count": 42,
   "metadata": {},
   "outputs": [
    {
     "name": "stdout",
     "output_type": "stream",
     "text": [
      "Acerca De La Gravedad En Luna\n",
      "--------------------------------------------------------------------------------\n",
      "Nombre del planeta:\t Tierra\n",
      "Gravedad en Luna:\t 1.6199999999999999 m/s²\n",
      "\n"
     ]
    }
   ],
   "source": [
    "planet = 'Marte '\n",
    "gravity = 0.00143\n",
    "name = 'Ganímedes'\n",
    "\n",
    "print(sTabla)"
   ]
  },
  {
   "cell_type": "markdown",
   "metadata": {},
   "source": [
    "La salida no muestra información sobre Marte. Todavía muestra información sobre la Luna. Esto sucede porque las cadenas f están ansiosas en su evaluación, por lo que las variables una vez asignadas no se pueden reasignar. Para evitar este problema, vuelva a hacer la plantilla para utilizar .format():"
   ]
  },
  {
   "cell_type": "code",
   "execution_count": 49,
   "metadata": {},
   "outputs": [
    {
     "name": "stdout",
     "output_type": "stream",
     "text": [
      "\n",
      "Datos de Gravedad sobre: Ganímedes\n",
      "-------------------------------------------------------------------------------\n",
      "Nombre del planeta: Marte \n",
      "Gravedad en Ganímedes: 1.4300000000000002 m/s²\n",
      "\n"
     ]
    }
   ],
   "source": [
    "sTabla2 = \"\"\"\n",
    "Datos de Gravedad sobre: {nombre}\n",
    "-------------------------------------------------------------------------------\n",
    "Nombre del planeta: {planeta}\n",
    "Gravedad en {nombre}: {gravedad} m/s²\n",
    "\"\"\"\n",
    "print(sTabla2.format(nombre=name, planeta=planet, gravedad=gravity*1000))"
   ]
  }
 ],
 "metadata": {
  "interpreter": {
   "hash": "a0861b759fd846bcff7881b220fc3b4038d22d44a49a71bfb9ec216c42725d5a"
  },
  "kernelspec": {
   "display_name": "Python 3.10.2 64-bit",
   "language": "python",
   "name": "python3"
  },
  "language_info": {
   "codemirror_mode": {
    "name": "ipython",
    "version": 3
   },
   "file_extension": ".py",
   "mimetype": "text/x-python",
   "name": "python",
   "nbconvert_exporter": "python",
   "pygments_lexer": "ipython3",
   "version": "3.10.2"
  },
  "orig_nbformat": 4
 },
 "nbformat": 4,
 "nbformat_minor": 2
}
