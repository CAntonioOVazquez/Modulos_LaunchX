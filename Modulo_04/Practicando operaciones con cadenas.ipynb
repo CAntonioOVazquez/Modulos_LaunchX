{
 "cells": [
  {
   "cell_type": "markdown",
   "metadata": {},
   "source": [
    "# Actividades del módulo 4"
   ]
  },
  {
   "cell_type": "markdown",
   "metadata": {},
   "source": [
    "Algunas pruebas con cadenas"
   ]
  },
  {
   "cell_type": "markdown",
   "metadata": {},
   "source": []
  },
  {
   "cell_type": "code",
   "execution_count": 9,
   "metadata": {},
   "outputs": [
    {
     "data": {
      "text/plain": [
       "'La Luna no tiene atmósfera. Ningún sonido se puede oir en la Luna.'"
      ]
     },
     "execution_count": 9,
     "metadata": {},
     "output_type": "execute_result"
    }
   ],
   "source": [
    "fact = 'La Luna no tiene atmósfera.'\n",
    "fact + ' Ningún sonido se puede oir en la Luna.'"
   ]
  },
  {
   "cell_type": "markdown",
   "metadata": {},
   "source": [
    "Aunque puede parecer que hemos modificado la variable fact, una comprobación rápida del valor revela que el valor original no ha cambiado:"
   ]
  },
  {
   "cell_type": "code",
   "execution_count": 10,
   "metadata": {},
   "outputs": [
    {
     "data": {
      "text/plain": [
       "'La Luna no tiene atmósfera.'"
      ]
     },
     "execution_count": 10,
     "metadata": {},
     "output_type": "execute_result"
    }
   ],
   "source": [
    "fact"
   ]
  },
  {
   "cell_type": "markdown",
   "metadata": {},
   "source": [
    "Cuando agregas cadenas, Python no modifica ninguna cadena, pero devuelve una nueva cadena como resultado. Para mantener este nuevo resultado, asígnelo a una nueva variable:"
   ]
  },
  {
   "cell_type": "code",
   "execution_count": 11,
   "metadata": {},
   "outputs": [
    {
     "data": {
      "text/plain": [
       "'La Luna no tiene atmósfera. Ningún sonido se puede oir en la Luna.'"
      ]
     },
     "execution_count": 11,
     "metadata": {},
     "output_type": "execute_result"
    }
   ],
   "source": [
    "two_fact = fact + ' Ningún sonido se puede oir en la Luna.'\n",
    "\n",
    "two_fact"
   ]
  },
  {
   "cell_type": "markdown",
   "metadata": {},
   "source": [
    "Puedes incluir cadenas de Python entre comillas simples, dobles o triples. Aunque puedes usarlos indistintamente, es mejor usar un tipo de manera consistente dentro de un proyecto. Por ejemplo, la siguiente cadena utiliza comillas dobles:"
   ]
  },
  {
   "cell_type": "code",
   "execution_count": 13,
   "metadata": {},
   "outputs": [
    {
     "data": {
      "text/plain": [
       "'La Luna tiene un radio de 1,080 millas.'"
      ]
     },
     "execution_count": 13,
     "metadata": {},
     "output_type": "execute_result"
    }
   ],
   "source": [
    "moon_radius = \"La Luna tiene un radio de 1,080 millas.\"\n",
    "\n",
    "moon_radius"
   ]
  },
  {
   "cell_type": "markdown",
   "metadata": {},
   "source": [
    "Si una subcadena utiliza comillas dobles, encierra toda la cadena entre comillas simples, como se muestra aquí:"
   ]
  },
  {
   "cell_type": "code",
   "execution_count": 16,
   "metadata": {},
   "outputs": [
    {
     "data": {
      "text/plain": [
       "'El \"lado cercano\" es la parte de la Luna que mira hacia la Tierra.'"
      ]
     },
     "execution_count": 16,
     "metadata": {},
     "output_type": "execute_result"
    }
   ],
   "source": [
    "cadena = 'El \"lado cercano\" es la parte de la Luna que mira hacia la Tierra.'\n",
    "\n",
    "cadena"
   ]
  },
  {
   "cell_type": "markdown",
   "metadata": {},
   "source": [
    "Si hay comillas simples (o un apóstrofo, como en Moon en el siguiente ejemplo) en cualquier lugar dentro de la cadena, encierra toda la cadena entre comillas dobles:"
   ]
  },
  {
   "cell_type": "code",
   "execution_count": 17,
   "metadata": {},
   "outputs": [
    {
     "data": {
      "text/plain": [
       "\"We only see about 60% of the Moon's surface\""
      ]
     },
     "execution_count": 17,
     "metadata": {},
     "output_type": "execute_result"
    }
   ],
   "source": [
    "cadena_2 =\"We only see about 60% of the Moon's surface\"\n",
    "\n",
    "cadena_2"
   ]
  },
  {
   "cell_type": "markdown",
   "metadata": {},
   "source": [
    "Si no se alternan comillas simples y dobles, el intérprete de Python puede provocar un error de sintaxis:"
   ]
  },
  {
   "cell_type": "code",
   "execution_count": 19,
   "metadata": {},
   "outputs": [
    {
     "ename": "SyntaxError",
     "evalue": "unterminated string literal (detected at line 1) (372339048.py, line 1)",
     "output_type": "error",
     "traceback": [
      "\u001b[1;36m  Input \u001b[1;32mIn [19]\u001b[1;36m\u001b[0m\n\u001b[1;33m    'We only see about 60% of the Moon's surface'\u001b[0m\n\u001b[1;37m                                                ^\u001b[0m\n\u001b[1;31mSyntaxError\u001b[0m\u001b[1;31m:\u001b[0m unterminated string literal (detected at line 1)\n"
     ]
    }
   ],
   "source": [
    "'We only see about 60% of the Moon's surface'"
   ]
  },
  {
   "cell_type": "markdown",
   "metadata": {},
   "source": [
    "Cuando el texto tiene una combinación de comillas simples y dobles, puedes utilizar comillas triples para evitar problemas con el intérprete:"
   ]
  },
  {
   "cell_type": "code",
   "execution_count": 20,
   "metadata": {},
   "outputs": [
    {
     "data": {
      "text/plain": [
       "'We only see about 60% of the Moon\\'s surface, this is known as the \"near side\".'"
      ]
     },
     "execution_count": 20,
     "metadata": {},
     "output_type": "execute_result"
    }
   ],
   "source": [
    "\"\"\"We only see about 60% of the Moon's surface, this is known as the \"near side\".\"\"\""
   ]
  },
  {
   "cell_type": "markdown",
   "metadata": {},
   "source": [
    "### Texto multilínea"
   ]
  },
  {
   "cell_type": "markdown",
   "metadata": {},
   "source": [
    "* Utiliza un carácter de nueva línea ().\\n\n",
    "* Utiliza comillas triples (\"\"\")..\n",
    "* Los caracteres de nueva línea separan el texto en varias líneas al imprimir la salida:"
   ]
  },
  {
   "cell_type": "code",
   "execution_count": 21,
   "metadata": {},
   "outputs": [
    {
     "name": "stdout",
     "output_type": "stream",
     "text": [
      "Facts about the Moon:\n",
      " There is no atmosphere.\n",
      " There is no sound.\n"
     ]
    }
   ],
   "source": [
    "multiline = \"Facts about the Moon:\\n There is no atmosphere.\\n There is no sound.\"\n",
    "print(multiline)"
   ]
  },
  {
   "cell_type": "markdown",
   "metadata": {},
   "source": [
    "Se puede lograr el mismo resultado utilizando comillas triples:"
   ]
  },
  {
   "cell_type": "code",
   "execution_count": 22,
   "metadata": {},
   "outputs": [
    {
     "name": "stdout",
     "output_type": "stream",
     "text": [
      "Facts about the Moon:\n",
      " There is no atmosphere.\n",
      " There is no sound.\n"
     ]
    }
   ],
   "source": [
    "multiline = \"\"\"Facts about the Moon:\n",
    "...  There is no atmosphere.\n",
    "...  There is no sound.\"\"\"\n",
    "print(multiline)"
   ]
  },
  {
   "cell_type": "markdown",
   "metadata": {},
   "source": [
    "### Métodos para cadenas"
   ]
  },
  {
   "cell_type": "markdown",
   "metadata": {},
   "source": [
    "Los métodos de cadena forman parte del tipo str. Esto significa que los métodos existen como variables de cadena o parte de la cadena directamente. Por ejemplo, el método .title() se puede utilizar con una cadena directamente:"
   ]
  },
  {
   "cell_type": "code",
   "execution_count": 23,
   "metadata": {},
   "outputs": [
    {
     "data": {
      "text/plain": [
       "'Temperatures And Facts About The Moon'"
      ]
     },
     "execution_count": 23,
     "metadata": {},
     "output_type": "execute_result"
    }
   ],
   "source": [
    "'temperatures and facts about the moon'.title()"
   ]
  },
  {
   "cell_type": "markdown",
   "metadata": {},
   "source": [
    "Y el mismo comportamiento y uso ocurre en una variable:"
   ]
  },
  {
   "cell_type": "code",
   "execution_count": 24,
   "metadata": {},
   "outputs": [
    {
     "data": {
      "text/plain": [
       "'Temperatures And Facts About The Moon'"
      ]
     },
     "execution_count": 24,
     "metadata": {},
     "output_type": "execute_result"
    }
   ],
   "source": [
    "heading = 'temperatures and facts about the moon'\n",
    "heading.title()"
   ]
  },
  {
   "cell_type": "markdown",
   "metadata": {},
   "source": [
    "Y el mismo comportamiento y uso ocurre en una variable:"
   ]
  },
  {
   "cell_type": "code",
   "execution_count": 25,
   "metadata": {},
   "outputs": [
    {
     "data": {
      "text/plain": [
       "'Temperatures And Facts About The Moon'"
      ]
     },
     "execution_count": 25,
     "metadata": {},
     "output_type": "execute_result"
    }
   ],
   "source": [
    "heading = 'temperatures and facts about the moon'\n",
    "heading.title()"
   ]
  },
  {
   "cell_type": "markdown",
   "metadata": {},
   "source": []
  },
  {
   "cell_type": "code",
   "execution_count": null,
   "metadata": {},
   "outputs": [],
   "source": []
  }
 ],
 "metadata": {
  "interpreter": {
   "hash": "a0861b759fd846bcff7881b220fc3b4038d22d44a49a71bfb9ec216c42725d5a"
  },
  "kernelspec": {
   "display_name": "Python 3.10.2 64-bit",
   "language": "python",
   "name": "python3"
  },
  "language_info": {
   "codemirror_mode": {
    "name": "ipython",
    "version": 3
   },
   "file_extension": ".py",
   "mimetype": "text/x-python",
   "name": "python",
   "nbconvert_exporter": "python",
   "pygments_lexer": "ipython3",
   "version": "3.10.2"
  },
  "orig_nbformat": 4
 },
 "nbformat": 4,
 "nbformat_minor": 2
}
